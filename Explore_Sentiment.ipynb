{
  "nbformat": 4,
  "nbformat_minor": 0,
  "metadata": {
    "colab": {
      "name": "Explore_Sentiment.ipynb",
      "provenance": [],
      "collapsed_sections": [],
      "authorship_tag": "ABX9TyOLegi1tdJasEc+k6xgLSxt",
      "include_colab_link": true
    },
    "kernelspec": {
      "name": "python3",
      "display_name": "Python 3"
    },
    "language_info": {
      "name": "python"
    }
  },
  "cells": [
    {
      "cell_type": "markdown",
      "metadata": {
        "id": "view-in-github",
        "colab_type": "text"
      },
      "source": [
        "<a href=\"https://colab.research.google.com/github/joanitolopo/model-sentiment/blob/main/Explore_Sentiment.ipynb\" target=\"_parent\"><img src=\"https://colab.research.google.com/assets/colab-badge.svg\" alt=\"Open In Colab\"/></a>"
      ]
    },
    {
      "cell_type": "markdown",
      "metadata": {
        "id": "48zLpx5PwWos"
      },
      "source": [
        "You can explore the model for sentiment analysis that i trained. I provide some of model:\n",
        "1. K-Nearest Neighbor\n",
        "2. Support Vector Machine\n",
        "3. Logistic Regression\n",
        "4. Random Forest\n",
        "\n",
        "Just follow the instruction, and you can input your own tweet/text and then see their sentiment. Feel free to ask me if you have any question."
      ]
    },
    {
      "cell_type": "markdown",
      "metadata": {
        "id": "yapAf7HDxuVC"
      },
      "source": [
        "Before explore it, you need to download some of packages that support this expriment.\n",
        "- jcopml (allow you to load the model)\n",
        "- Sastrawi (which is help us for stemmer and stopwords in indonesian terms of process tweet before put in the model)\n",
        "- NLTK (using this for process tweet as well, in actully Google Colab had provide it, but we need to download manually the stopwords )"
      ]
    },
    {
      "cell_type": "markdown",
      "metadata": {
        "id": "EgD5cMSDy-ty"
      },
      "source": [
        "# Download Package Resource"
      ]
    },
    {
      "cell_type": "markdown",
      "metadata": {
        "id": "8JdweDQJ8S-J"
      },
      "source": [
        "Take out the '#' and run them, to get the resource we need"
      ]
    },
    {
      "cell_type": "code",
      "metadata": {
        "id": "jW-QgnARy92Q"
      },
      "source": [
        "#import nltk\n",
        "#nltk.download('stopwords')\n",
        "#nltk.download('punkt')"
      ],
      "execution_count": 39,
      "outputs": []
    },
    {
      "cell_type": "code",
      "metadata": {
        "id": "J_aw3zXczMLF"
      },
      "source": [
        "#!pip install Sastrawi"
      ],
      "execution_count": 6,
      "outputs": []
    },
    {
      "cell_type": "code",
      "metadata": {
        "id": "BdVa20K1zR51"
      },
      "source": [
        "#!pip install jcopml"
      ],
      "execution_count": 7,
      "outputs": []
    },
    {
      "cell_type": "markdown",
      "metadata": {
        "id": "CqPjzRdzzeIH"
      },
      "source": [
        "# Import Package"
      ]
    },
    {
      "cell_type": "markdown",
      "metadata": {
        "id": "tICETBgO4HUZ"
      },
      "source": [
        "You can use `git clone` or download the sentiment-model in my github repository https://github.com/joanitolopo/model-sentiment"
      ]
    },
    {
      "cell_type": "code",
      "metadata": {
        "id": "ioMjJ7SP4G1c"
      },
      "source": [
        "#!git clone https://github.com/joanitolopo/model-sentiment"
      ],
      "execution_count": 18,
      "outputs": []
    },
    {
      "cell_type": "code",
      "metadata": {
        "id": "uvdlkSC12WUn"
      },
      "source": [
        "import sys\n",
        "import os\n",
        "\n",
        "py_file_location = \"/content/model-sentiment\"\n",
        "sys.path.append(os.path.abspath(py_file_location))"
      ],
      "execution_count": 23,
      "outputs": []
    },
    {
      "cell_type": "code",
      "metadata": {
        "id": "lPCJMuL3zgQc"
      },
      "source": [
        "from jcopml.utils import load_model\n",
        "from utils import predict, process_tweet"
      ],
      "execution_count": 24,
      "outputs": []
    },
    {
      "cell_type": "markdown",
      "metadata": {
        "id": "ZHUOJLL6xN6i"
      },
      "source": [
        "# Predict Sentiment"
      ]
    },
    {
      "cell_type": "markdown",
      "metadata": {
        "id": "ie1vqehM7w8f"
      },
      "source": [
        "Don't worry about the warning, it just because when i train the model, i didn't use the new version module in sklearn. You still get the answer below it.\n",
        "\n",
        "You can change the model i provide, with take off the name of the model. I save it the model in :\n",
        "```\n",
        "'content/model-sentiment/main/...'\n",
        "```"
      ]
    },
    {
      "cell_type": "code",
      "metadata": {
        "colab": {
          "base_uri": "https://localhost:8080/"
        },
        "id": "SOI9gZyxxqFt",
        "outputId": "eea1f58e-f33a-4d9a-96ea-8c4d5e246f79"
      },
      "source": [
        "#load model\n",
        "model = load_model(\"/content/model-sentiment/main/model_logreg.pkl\")"
      ],
      "execution_count": 44,
      "outputs": [
        {
          "output_type": "stream",
          "name": "stderr",
          "text": [
            "/usr/local/lib/python3.7/dist-packages/sklearn/base.py:318: UserWarning: Trying to unpickle estimator TfidfTransformer from version 0.22 when using version 0.22.2.post1. This might lead to breaking code or invalid results. Use at your own risk.\n",
            "  UserWarning)\n",
            "/usr/local/lib/python3.7/dist-packages/sklearn/base.py:318: UserWarning: Trying to unpickle estimator TfidfVectorizer from version 0.22 when using version 0.22.2.post1. This might lead to breaking code or invalid results. Use at your own risk.\n",
            "  UserWarning)\n",
            "/usr/local/lib/python3.7/dist-packages/sklearn/base.py:318: UserWarning: Trying to unpickle estimator LogisticRegression from version 0.22 when using version 0.22.2.post1. This might lead to breaking code or invalid results. Use at your own risk.\n",
            "  UserWarning)\n",
            "/usr/local/lib/python3.7/dist-packages/sklearn/base.py:318: UserWarning: Trying to unpickle estimator Pipeline from version 0.22 when using version 0.22.2.post1. This might lead to breaking code or invalid results. Use at your own risk.\n",
            "  UserWarning)\n",
            "/usr/local/lib/python3.7/dist-packages/sklearn/base.py:318: UserWarning: Trying to unpickle estimator GridSearchCV from version 0.22 when using version 0.22.2.post1. This might lead to breaking code or invalid results. Use at your own risk.\n",
            "  UserWarning)\n"
          ]
        }
      ]
    },
    {
      "cell_type": "code",
      "metadata": {
        "colab": {
          "base_uri": "https://localhost:8080/"
        },
        "id": "7bKJ85f_7cvK",
        "outputId": "50fa180a-4073-454b-8b89-8b68149428c5"
      },
      "source": [
        "#input tweet\n",
        "tweet = 'Semakin kurus dengan setiap pembaruan ... pertama-tama mereka menonaktifkan berbagi akun'\n",
        "#predict\n",
        "predict(tweet, process_tweet, model)"
      ],
      "execution_count": 45,
      "outputs": [
        {
          "output_type": "stream",
          "name": "stdout",
          "text": [
            "Kalimat 'Semakin kurus dengan setiap pembaruan ... pertama-tama mereka menonaktifkan berbagi akun' adalah negatif\n"
          ]
        }
      ]
    },
    {
      "cell_type": "code",
      "metadata": {
        "id": "4YcVX4zM-Ijt"
      },
      "source": [
        ""
      ],
      "execution_count": null,
      "outputs": []
    }
  ]
}